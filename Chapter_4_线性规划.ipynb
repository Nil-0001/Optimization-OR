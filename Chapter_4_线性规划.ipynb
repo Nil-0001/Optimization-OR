{
  "nbformat": 4,
  "nbformat_minor": 0,
  "metadata": {
    "colab": {
      "provenance": [],
      "authorship_tag": "ABX9TyNPHDm542eWb2qzcQcAJdFs",
      "include_colab_link": true
    },
    "kernelspec": {
      "name": "python3",
      "display_name": "Python 3"
    },
    "language_info": {
      "name": "python"
    }
  },
  "cells": [
    {
      "cell_type": "markdown",
      "metadata": {
        "id": "view-in-github",
        "colab_type": "text"
      },
      "source": [
        "<a href=\"https://colab.research.google.com/github/Nil-0001/Optimization-OR/blob/main/Chapter_4_%E7%BA%BF%E6%80%A7%E8%A7%84%E5%88%92.ipynb\" target=\"_parent\"><img src=\"https://colab.research.google.com/assets/colab-badge.svg\" alt=\"Open In Colab\"/></a>"
      ]
    },
    {
      "cell_type": "markdown",
      "source": [
        "## Chapter 4 线性规划\n",
        "\n",
        "### 4.1 资源分配模型\n",
        "\n",
        "- 应用案例4-1 林务局的分配问题\n",
        "\n",
        "- 4.1.1 林务局分配问题中的决策变量\n",
        "\n",
        "- 4.1.2 林务局分配模型\n",
        "\n",
        "### 4.2 混料模型\n",
        "\n",
        "- 应用案例4-2 瑞典钢材生产\n",
        "\n",
        "- 4.2.1 混料模型的决策变量\n",
        "\n",
        "- 4.2.2 成分约束\n",
        "\n",
        "- 4.2.3 瑞典钢材生产模型\n",
        "\n",
        "- 4.2.4 比率约束\n",
        "\n",
        "### 4.3 运营规划模型\n",
        "\n",
        "- 应用案例4-3 管材产品运营规划\n",
        "\n",
        "- 4.3.1 管材产品运营规划模型\n",
        "\n",
        "- 应用案例4-4 加拿大森林产品有限公司（CFPL）运营规划\n",
        "\n",
        "- 4.3.2 CFPL模型的决策变量\n",
        "\n",
        "- 4.3.3 连续变量表示整数量\n",
        "\n",
        "- 4.3.4 CFPL的目标函数\n",
        "\n",
        "- 4.3.5 CFPL的约束\n",
        "\n",
        "- 4.3.6 平衡约束\n",
        "\n",
        "- 4.3.7 CFPL线性规划模型\n",
        "\n",
        "### 4.4 排班和人员规划模型\n",
        "\n",
        "- 应用案例4-5 俄亥俄国家银行排班规划\n",
        "\n",
        "- 4.4.1 ONB的决策变量和目标函数\n",
        "\n",
        "- 4.4.2 ONB的约束条件\n",
        "\n",
        "- 4.4.3 覆盖约束\n",
        "\n",
        "- 4.4.4 ONB排班模型\n",
        "\n",
        "### 4.5 多阶段模型\n",
        "\n",
        "- 应用案例4-6 食品服务机构的现金流管理\n",
        "\n",
        "- 4.5.1 多阶段模型的决策变量\n",
        "\n",
        "- 4.5.2 多阶段的平衡约束\n",
        "\n",
        "- 4.5.3 IFS的现金流模型\n",
        "\n",
        "- 4.5.4 时间区间\n",
        "\n",
        "### 4.6 可行性化的非线性目标模型\n",
        "\n",
        "- 应用案例4-7 高速公路巡逻队\n",
        "\n",
        "- 4.6.1 最大化总和的高速公路巡逻模型\n",
        "\n",
        "- 4.6.2 极小化极大和极大化极小目标函数\n",
        "\n",
        "- 4.6.3 非线性的极大化极小高速公路巡逻队模型\n",
        "\n",
        "- 4.6.4 线性化极小化极大和极大化极小目标函数\n",
        "\n",
        "- 4.6.5 极大化极小高速公路巡逻队模型的线性化变换\n",
        "\n",
        "- 应用案例4-8 VP公司的选址问题\n",
        "\n",
        "- 4.6.6 非线性VP选址模型\n",
        "\n",
        "- 4.6.7 最小化偏差式的目标函数\n",
        "\n",
        "- 4.6.8 最小偏差目标函数的线性化变换\n",
        "\n",
        "- 4.6.9 VP选址模型的线性化变换\n",
        "\n",
        "### 4.7 随机规划\n",
        "\n",
        "- 应用案例4-9 快速救援\n",
        "\n",
        "- 4.7.1 QA例子的确定模型\n",
        "\n",
        "- 4.7.2 带偿付随机规划\n",
        "\n",
        "- 4.7.3 QA应用的随机规划模型\n",
        "\n",
        "- 4.7.4 一般形式和大规模处理技术"
      ],
      "metadata": {
        "id": "XytJYvCMZLOz"
      }
    },
    {
      "cell_type": "code",
      "source": [],
      "metadata": {
        "id": "XoFcrVaNZS2T"
      },
      "execution_count": null,
      "outputs": []
    }
  ]
}