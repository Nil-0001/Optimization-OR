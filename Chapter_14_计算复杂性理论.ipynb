{
  "nbformat": 4,
  "nbformat_minor": 0,
  "metadata": {
    "colab": {
      "provenance": [],
      "authorship_tag": "ABX9TyOf7hPFcvuStURr/4FEhM+k",
      "include_colab_link": true
    },
    "kernelspec": {
      "name": "python3",
      "display_name": "Python 3"
    },
    "language_info": {
      "name": "python"
    }
  },
  "cells": [
    {
      "cell_type": "markdown",
      "metadata": {
        "id": "view-in-github",
        "colab_type": "text"
      },
      "source": [
        "<a href=\"https://colab.research.google.com/github/Nil-0001/Optimization-OR/blob/main/Chapter_14_%E8%AE%A1%E7%AE%97%E5%A4%8D%E6%9D%82%E6%80%A7%E7%90%86%E8%AE%BA.ipynb\" target=\"_parent\"><img src=\"https://colab.research.google.com/assets/colab-badge.svg\" alt=\"Open In Colab\"/></a>"
      ]
    },
    {
      "cell_type": "markdown",
      "source": [
        "## Chapter 14 计算复杂性理论\n",
        "\n",
        "### 14.1 问题、实例和求解的难度\n",
        "\n",
        "### 14.2 衡量算法复杂性及问题的难度\n",
        "\n",
        "- 14.2.1 计算的时间复杂度\n",
        "\n",
        "- 14.2.2 基于编码输入长度的实例规模\n",
        "\n",
        "- 14.2.3 优化问题实例的编码长度表示\n",
        "\n",
        "### 14.3 可解问题的多项式时间验证标准\n",
        "\n",
        "### 14.4 多项式可解和非确定多项式可解\n",
        "\n",
        "- 14.4.1 判定问题和最优化问题\n",
        "\n",
        "- 14.4.2 P问题—多项式时间可解的判定问题\n",
        "\n",
        "- 14.4.3 NP问题—非确定多项式时间可解判定问题\n",
        "\n",
        "- 14.4.4 多项式时间可解问题类和非确定多项式时间可解问题类\n",
        "\n",
        "### 14.5 多项式时间归约和NP难问题\n",
        "\n",
        "- 14.5.1 问题之间的多项式时间归约\n",
        "\n",
        "- 14.5.2 NP完全问题和NP难问题\n",
        "\n",
        "### 14.6 P问题和NP问题\n",
        "\n",
        "### 14.7 求解NP难问题\n",
        "\n",
        "- 14.7.1 特例\n",
        "\n",
        "- 14.7.2 伪多项式时间算法\n",
        "\n",
        "- 14.7.3 平均计算性能\n",
        "\n",
        "- 14.7.4 分支定界算法和分支切割算法中更强的松弛问题和割\n",
        "\n",
        "- 14.7.5 带有最优目标函数上下界的启发式算法\n",
        "\n",
        "- 14.7.6 求解一般问题的启发式/近似算法"
      ],
      "metadata": {
        "id": "hsDO1u94gi_k"
      }
    },
    {
      "cell_type": "code",
      "source": [],
      "metadata": {
        "id": "oO8UlWP3hJeW"
      },
      "execution_count": null,
      "outputs": []
    }
  ]
}