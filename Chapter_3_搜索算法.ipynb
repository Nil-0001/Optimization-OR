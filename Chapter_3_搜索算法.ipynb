{
  "nbformat": 4,
  "nbformat_minor": 0,
  "metadata": {
    "colab": {
      "provenance": [],
      "authorship_tag": "ABX9TyMQnSXR9gW/hGgJl4+ArwB6",
      "include_colab_link": true
    },
    "kernelspec": {
      "name": "python3",
      "display_name": "Python 3"
    },
    "language_info": {
      "name": "python"
    }
  },
  "cells": [
    {
      "cell_type": "markdown",
      "metadata": {
        "id": "view-in-github",
        "colab_type": "text"
      },
      "source": [
        "<a href=\"https://colab.research.google.com/github/Nil-0001/Optimization-OR/blob/main/Chapter_3_%E6%90%9C%E7%B4%A2%E7%AE%97%E6%B3%95.ipynb\" target=\"_parent\"><img src=\"https://colab.research.google.com/assets/colab-badge.svg\" alt=\"Open In Colab\"/></a>"
      ]
    },
    {
      "cell_type": "markdown",
      "source": [
        "## Chapter 3 搜索算法\n",
        "\n",
        "### 3.1 搜索算法、局部和全局最优\n",
        "\n",
        "- 3.1.1 解\n",
        "\n",
        "- 3.1.2 解的向量形式\n",
        "\n",
        "- 3.1.3 搜索算法实例\n",
        "\n",
        "- 3.1.4 邻域视角\n",
        "\n",
        "- 3.1.5 局部最优\n",
        "\n",
        "- 3.1.6 局部最优和搜索算法\n",
        "\n",
        "- 3.1.7 局部和全局最优\n",
        "\n",
        "- 3.1.8 局部最优的处理\n",
        "\n",
        "### 3.2 沿可行改进方向的搜索\n",
        "\n",
        "- 3.2.1 方向步长范式\n",
        "\n",
        "- 3.2.2 可行方向\n",
        "\n",
        "- 3.2.3 如何确定步长\n",
        "\n",
        "- 3.2.4 DClub搜索\n",
        "\n",
        "- 3.2.5 搜索算法何时停止\n",
        "\n",
        "- 3.2.6 检验无界性\n",
        "\n",
        "### 3.3 可行该进方向的代数条件\n",
        "\n",
        "- 3.3.1 梯度\n",
        "\n",
        "- 3.3.2 改进方向的梯度条件\n",
        "\n",
        "- 3.3.3 将目标函数梯度作为搜索方向\n",
        "\n",
        "- 3.3.4 起作用约束和可行方向\n",
        "\n",
        "- 3.3.5 线性约束\n",
        "\n",
        "- 3.3.6 线性约束下可行方向的代数条件\n",
        "\n",
        "### 3.4 线性目标和凸集的易处理性\n",
        "\n",
        "- 3.4.1 线性目标函数的易处理性\n",
        "\n",
        "- 3.4.2 约束条件和局部最优\n",
        "\n",
        "- 3.4.3 凸集\n",
        "\n",
        "- 3.4.4 连线的代数表示\n",
        "\n",
        "- 3.4.5 凸集的易处理性\n",
        "\n",
        "- 3.4.6 凸集和线性目标的全局最优性\n",
        "\n",
        "- 3.4.7 线性约束可行集的凸性\n",
        "\n",
        "- 3.4.8 线性规划搜索算法的全局最优性\n",
        "\n",
        "- 3.4.9 线性规划的阻碍约束\n",
        "\n",
        "### 3.5 寻找初始可行解\n",
        "\n",
        "- 3.5.1 两阶段法\n",
        "\n",
        "- 3.5.2 再次审视双原油模型\n",
        "\n",
        "- 3.5.3 人工变量\n",
        "\n",
        "- 3.5.4 第一阶段模型\n",
        "\n",
        "- 3.5.5 从人工初始解开始\n",
        "\n",
        "- 3.5.6 第一阶段结果\n",
        "\n",
        "- 3.5.7 由第一阶段得到原模型无可行解\n",
        "\n",
        "- 3.5.8 大M法\n",
        "\n",
        "- 3.5.9 大M法的搜索结果\n"
      ],
      "metadata": {
        "id": "YW4Z-VFcWjeX"
      }
    },
    {
      "cell_type": "code",
      "source": [],
      "metadata": {
        "id": "KrMRnjs_ZBzp"
      },
      "execution_count": null,
      "outputs": []
    }
  ]
}